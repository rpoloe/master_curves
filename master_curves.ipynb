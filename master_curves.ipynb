{
  "cells": [
    {
      "cell_type": "code",
      "execution_count": null,
      "metadata": {
        "id": "8DDfS7AOgINW"
      },
      "outputs": [],
      "source": [
        "%%capture\n",
        "import math\n",
        "import random\n",
        "import statistics\n",
        "import numpy as np\n",
        "import pandas as pd\n",
        "import matplotlib.pyplot as plt\n",
        "import tensorflow as tf\n",
        "from tensorflow import keras\n",
        "from tensorflow.keras import layers\n",
        "!pip install deap\n",
        "from deap import base\n",
        "from deap import creator\n",
        "from deap import tools\n",
        "from deap import algorithms"
      ]
    },
    {
      "cell_type": "code",
      "execution_count": null,
      "metadata": {
        "id": "aCm-KFj-arie"
      },
      "outputs": [],
      "source": [
        "Temperature = [5, 10, 20, 40]\n",
        "Frecuenzy = [0.5, 1, 2, 4, 8]\n",
        "lab_results = [\n",
        "    [17797.9,18891.9,19862.3,21268.6,22219.2],\n",
        "    [15831.9,15842,17594.4,17977.5,19629.1],\n",
        "    [9092,9224.7,9420.2,9640.5,11328.8],\n",
        "    [1415.8,1865.2,2791.3,4604.4,8205.7],\n",
        "]\n",
        "n_x, n_y, penalize = len(lab_results), len(lab_results[0]), 10000000"
      ]
    },
    {
      "cell_type": "code",
      "execution_count": null,
      "metadata": {
        "colab": {
          "base_uri": "https://localhost:8080/"
        },
        "id": "53311d7piLeu",
        "outputId": "df2aca4c-5787-4281-ffb7-3761c9a2a873"
      },
      "outputs": [
        {
          "output_type": "stream",
          "name": "stdout",
          "text": [
            "[[ 5.       4.45698 -0.20707 -0.04726  3.30069]\n",
            " [10.       5.36491  0.09877 -0.04319  3.48466]\n",
            " [20.       3.62728 -0.21092 -0.05562  3.54079]]\n"
          ]
        }
      ],
      "source": [
        "# CANONICAL_MODEL\n",
        "def funcion_objetivo(individual):\n",
        "  MAPE1, MSLE1 = 0, 0\n",
        "  alpha1, beta1, gamma1, delta1 = individual[0], individual[1], individual[2], individual[3]\n",
        "  for j in range(0, n_y):\n",
        "    fr = Frecuenzy[j]\n",
        "    if alpha1<-11 or alpha1>11 or alpha1==0:\n",
        "      return penalize, penalize\n",
        "    if beta1<-11 or beta1>11 or beta1==0:\n",
        "      return penalize, penalize\n",
        "    if gamma1<-11 or gamma1>11 or gamma1==0:\n",
        "      return penalize, penalize\n",
        "    if delta1<-11 or delta1>11 or delta1==0:\n",
        "      return penalize, penalize\n",
        "    right1 = (alpha1+delta1)/(1+pow(math.e, beta1+gamma1*math.log10(fr)))\n",
        "    if right1>=2 and right1<=5:\n",
        "      ED1 = 10**right1\n",
        "      MAPE1 = MAPE1 + abs((lab_results[Temp][j]-ED1)/lab_results[Temp][j])\n",
        "      MSLE1 = MSLE1 + pow(np.log(1+lab_results[Temp][j])-np.log(1+ED1), 2)\n",
        "    else:        \n",
        "      return penalize, penalize\n",
        "  MAPE1, MSLE1 = MAPE1/n_y, MSLE1/n_y\n",
        "  if MAPE1>=0.05 or MSLE1>=0.003:\n",
        "    return penalize, penalize\n",
        "  else:\n",
        "    vector_alpha1.append(round(alpha1, 5))\n",
        "    vector_beta1.append(round(beta1, 5))\n",
        "    vector_gamma1.append(round(gamma1, 5))\n",
        "    vector_delta1.append(round(delta1, 5))\n",
        "    vector_MAPE1.append(round(MAPE1, 5))\n",
        "    vector_MSLE1.append(round(MSLE1, 5))\n",
        "    return MAPE1, MSLE1\n",
        "creator.create(\"FitnessMin\", base.Fitness, weights=(-1.0, -1.0))\n",
        "creator.create(\"Individual\", list, fitness=creator.FitnessMin)\n",
        "toolbox = base.Toolbox()\n",
        "toolbox.register(\"attr_alpha1\", random.uniform, 3.5, 5)\n",
        "toolbox.register(\"attr_beta1\", random.uniform, -2.5, 2)\n",
        "toolbox.register(\"attr_gamma1\", random.uniform, -1.5, 0)\n",
        "toolbox.register(\"attr_delta1\", random.uniform, 2, 4)\n",
        "toolbox.register(\"individual\", tools.initCycle, creator.Individual, (toolbox.attr_alpha1, toolbox.attr_beta1, toolbox.attr_gamma1, toolbox.attr_delta1), n=1)\n",
        "toolbox.register(\"population\", tools.initRepeat, list, toolbox.individual, 1600)\n",
        "toolbox.register(\"mate\", tools.cxOnePoint)\n",
        "toolbox.register(\"mutate\", tools.mutGaussian, mu=0.5, sigma=0.25, indpb=0.2)\n",
        "toolbox.register(\"select\", tools.selTournament, tournsize=2)\n",
        "toolbox.register(\"evaluate\", funcion_objetivo)\n",
        "results_CANONICAL = np.zeros((n_x-1, 5))\n",
        "for i in range(0, n_x-1):\n",
        "  vector_alpha1, vector_beta1, vector_gamma1, vector_delta1, vector_MAPE1, vector_MSLE1 = [], [], [], [], [], []\n",
        "  Temp = i\n",
        "  def main():\n",
        "    pop = toolbox.population()\n",
        "    stats = tools.Statistics(lambda ind: ind.fitness.values)\n",
        "    stats.register(\"avg\", np.mean)\n",
        "    stats.register(\"std\", np.std)\n",
        "    stats.register(\"min\", np.min)\n",
        "    stats.register(\"max\", np.max)\n",
        "    logbook = tools.Logbook()  \n",
        "    pareto = tools.ParetoFront() \n",
        "    pop, logbook = algorithms.eaSimple(pop, toolbox, cxpb=0.8, mutpb=0.2, ngen=100, stats=stats, halloffame=pareto, verbose=False)\n",
        "    return pop, logbook, pareto\n",
        "  main()\n",
        "  results_CANONICAL[i,0] = int(Temperature[i])\n",
        "  minimum_error = min(vector_MAPE1)\n",
        "  min_position = vector_MAPE1.index(minimum_error)\n",
        "  results_CANONICAL[i,1] = vector_alpha1[min_position]\n",
        "  results_CANONICAL[i,2] = vector_beta1[min_position]\n",
        "  results_CANONICAL[i,3] = vector_gamma1[min_position]\n",
        "  results_CANONICAL[i,4] = vector_delta1[min_position]\n",
        "print(results_CANONICAL)"
      ]
    },
    {
      "cell_type": "code",
      "execution_count": null,
      "metadata": {
        "colab": {
          "base_uri": "https://localhost:8080/"
        },
        "id": "s5_51csQp7iN",
        "outputId": "8f0f9eee-4458-4a7b-f9b6-f20a286927b1"
      },
      "outputs": [
        {
          "output_type": "stream",
          "name": "stdout",
          "text": [
            "[[ 5.       3.52031  1.12904  0.45584  4.52256]\n",
            " [10.       5.29086  2.8272  -1.04306  4.14066]\n",
            " [20.       4.63334  2.97112 -1.32189  3.93237]]\n"
          ]
        }
      ],
      "source": [
        "# UCR_MODEL\n",
        "def funcion_objetivo(individual):\n",
        "  MAPE2, MSLE2 = 0, 0\n",
        "  alpha2, beta2, gamma2, delta2 = individual[0], individual[1], individual[2], individual[3]\n",
        "  for j in range(0, n_y):\n",
        "    fr = Frecuenzy[j]\n",
        "    if alpha2<-11 or alpha2>11 or alpha2==0:\n",
        "      return penalize, penalize\n",
        "    if beta2<-11 or beta2>11 or beta2==0:\n",
        "      return penalize, penalize\n",
        "    if gamma2<-11 or gamma2>11 or gamma2==0:\n",
        "      return penalize, penalize\n",
        "    if delta2<-11 or delta2>11 or delta2==0:\n",
        "      return penalize, penalize\n",
        "    right2 = delta2 + ((alpha2-delta2)/(1+pow(math.e, beta2+gamma2*math.log10(fr))))\n",
        "    if right2>=2 and right2<=5:\n",
        "      ED2 = 10**right2\n",
        "      MAPE2 = MAPE2 + abs((lab_results[Temp][j]-ED2)/lab_results[Temp][j])\n",
        "      MSLE2 = MSLE2 + pow(np.log(1+lab_results[Temp][j])-np.log(1+ED2), 2)\n",
        "    else:        \n",
        "      return penalize, penalize\n",
        "  MAPE2, MSLE2 = MAPE2/n_y, MSLE2/n_y\n",
        "  if MAPE2>=0.05 or MSLE2>=0.003:\n",
        "    return penalize, penalize\n",
        "  else:\n",
        "    vector_alpha2.append(round(alpha2, 5))\n",
        "    vector_beta2.append(round(beta2, 5))\n",
        "    vector_gamma2.append(round(gamma2, 5))\n",
        "    vector_delta2.append(round(delta2, 5))\n",
        "    vector_MAPE2.append(round(MAPE2, 5))\n",
        "    vector_MSLE2.append(round(MSLE2, 5))\n",
        "    return MAPE2, MSLE2\n",
        "creator.create(\"FitnessMin\", base.Fitness, weights=(-1.0, -1.0))\n",
        "creator.create(\"Individual\", list, fitness=creator.FitnessMin)\n",
        "toolbox = base.Toolbox()\n",
        "toolbox.register(\"attr_alpha2\", random.uniform, 3.5, 5)\n",
        "toolbox.register(\"attr_beta2\", random.uniform, -2.5, 2)\n",
        "toolbox.register(\"attr_gamma2\", random.uniform, -1.5, 0)\n",
        "toolbox.register(\"attr_delta2\", random.uniform, 2, 4)\n",
        "toolbox.register(\"individual\", tools.initCycle, creator.Individual, (toolbox.attr_alpha2, toolbox.attr_beta2, toolbox.attr_gamma2, toolbox.attr_delta2), n=1)\n",
        "toolbox.register(\"population\", tools.initRepeat, list, toolbox.individual, 1600)\n",
        "toolbox.register(\"mate\", tools.cxOnePoint)\n",
        "toolbox.register(\"mutate\", tools.mutGaussian, mu=0.5, sigma=0.25, indpb=0.2)\n",
        "toolbox.register(\"select\", tools.selTournament, tournsize=2)\n",
        "toolbox.register(\"evaluate\", funcion_objetivo)\n",
        "results_UCR = np.zeros((n_x-1, 5))\n",
        "for i in range(0, n_x-1):\n",
        "  vector_alpha2, vector_beta2, vector_gamma2, vector_delta2, vector_MAPE2, vector_MSLE2 = [], [], [], [], [], []\n",
        "  Temp = i\n",
        "  def main():\n",
        "    pop = toolbox.population()\n",
        "    stats = tools.Statistics(lambda ind: ind.fitness.values)\n",
        "    stats.register(\"avg\", np.mean)\n",
        "    stats.register(\"std\", np.std)\n",
        "    stats.register(\"min\", np.min)\n",
        "    stats.register(\"max\", np.max)\n",
        "    logbook = tools.Logbook()  \n",
        "    pareto = tools.ParetoFront() \n",
        "    pop, logbook = algorithms.eaSimple(pop, toolbox, cxpb=0.8, mutpb=0.2, ngen=100, stats=stats, halloffame=pareto, verbose=False)\n",
        "    return pop, logbook, pareto\n",
        "  main()\n",
        "  results_UCR[i,0] = int(Temperature[i])\n",
        "  minimum_error = min(vector_MAPE2)\n",
        "  min_position = vector_MAPE2.index(minimum_error)\n",
        "  results_UCR[i,1] = vector_alpha2[min_position]\n",
        "  results_UCR[i,2] = vector_beta2[min_position]\n",
        "  results_UCR[i,3] = vector_gamma2[min_position]\n",
        "  results_UCR[i,4] = vector_delta2[min_position]\n",
        "print(results_UCR)"
      ]
    },
    {
      "cell_type": "code",
      "execution_count": null,
      "metadata": {
        "colab": {
          "base_uri": "https://localhost:8080/"
        },
        "id": "mxAgTCFmC1vc",
        "outputId": "1cc1bb56-4ff6-40fa-a59d-a3f6f5e8266d"
      },
      "outputs": [
        {
          "output_type": "stream",
          "name": "stdout",
          "text": [
            "[[ 5.       7.12303  2.81446  0.22379  3.86914]\n",
            " [10.       4.36494  3.10103  0.38501  4.03063]\n",
            " [20.       4.93661  4.81142  1.3412   3.91935]]\n"
          ]
        }
      ],
      "source": [
        "# SLS_MODEL\n",
        "def funcion_objetivo(individual):\n",
        "  MAPE3, MSLE3 = 0, 0\n",
        "  alpha3, beta3, gamma3, delta3 = individual[0], individual[1], individual[2], individual[3]\n",
        "  for j in range(0, n_y):\n",
        "    fr = Frecuenzy[j]\n",
        "    if alpha3<-11 or alpha3>11 or alpha3==0:\n",
        "      return penalize, penalize\n",
        "    if beta3<-11 or beta3>11 or beta3==0:\n",
        "      return penalize, penalize\n",
        "    if gamma3<-11 or gamma3>11 or gamma3==0:\n",
        "      return penalize, penalize\n",
        "    if delta3<-11 or delta3>11 or delta3==0:\n",
        "      return penalize, penalize\n",
        "    right3 = delta3 + (alpha3/(1+pow(math.e, beta3-gamma3*math.log10(fr))))\n",
        "    if right3>=2 and right3<=5:\n",
        "      ED3 = 10**right3\n",
        "      MAPE3 = MAPE3 + abs((lab_results[Temp][j]-ED3)/lab_results[Temp][j])\n",
        "      MSLE3 = MSLE3 + pow(np.log(1+lab_results[Temp][j])-np.log(1+ED3), 2)\n",
        "    else:        \n",
        "      return penalize, penalize\n",
        "  MAPE3, MSLE3 = MAPE3/n_y, MSLE3/n_y\n",
        "  if MAPE3>=0.05 or MSLE3>=0.003:\n",
        "    return penalize, penalize\n",
        "  else:\n",
        "    vector_alpha3.append(round(alpha3, 5))\n",
        "    vector_beta3.append(round(beta3, 5))\n",
        "    vector_gamma3.append(round(gamma3, 5))\n",
        "    vector_delta3.append(round(delta3, 5))\n",
        "    vector_MAPE3.append(round(MAPE3, 5))\n",
        "    vector_MSLE3.append(round(MSLE3, 5))\n",
        "    return MAPE3, MSLE3\n",
        "creator.create(\"FitnessMin\", base.Fitness, weights=(-1.0, -1.0))\n",
        "creator.create(\"Individual\", list, fitness=creator.FitnessMin)\n",
        "toolbox = base.Toolbox()\n",
        "toolbox.register(\"attr_alpha3\", random.uniform, 3.5, 5)\n",
        "toolbox.register(\"attr_beta3\", random.uniform, -2.5, 2)\n",
        "toolbox.register(\"attr_gamma3\", random.uniform, -1.5, 0)\n",
        "toolbox.register(\"attr_delta3\", random.uniform, 2, 4)\n",
        "toolbox.register(\"individual\", tools.initCycle, creator.Individual, (toolbox.attr_alpha3, toolbox.attr_beta3, toolbox.attr_gamma3, toolbox.attr_delta3), n=1)\n",
        "toolbox.register(\"population\", tools.initRepeat, list, toolbox.individual, 1600)\n",
        "toolbox.register(\"mate\", tools.cxOnePoint)\n",
        "toolbox.register(\"mutate\", tools.mutGaussian, mu=0.5, sigma=0.25, indpb=0.2)\n",
        "toolbox.register(\"select\", tools.selTournament, tournsize=2)\n",
        "toolbox.register(\"evaluate\", funcion_objetivo)\n",
        "results_SLS = np.zeros((n_x-1, 5))\n",
        "for i in range(0, n_x-1):\n",
        "  vector_alpha3, vector_beta3, vector_gamma3, vector_delta3, vector_MAPE3, vector_MSLE3 = [], [], [], [], [], []\n",
        "  Temp = i\n",
        "  def main():\n",
        "    pop = toolbox.population()\n",
        "    stats = tools.Statistics(lambda ind: ind.fitness.values)\n",
        "    stats.register(\"avg\", np.mean)\n",
        "    stats.register(\"std\", np.std)\n",
        "    stats.register(\"min\", np.min)\n",
        "    stats.register(\"max\", np.max)\n",
        "    logbook = tools.Logbook()  \n",
        "    pareto = tools.ParetoFront() \n",
        "    pop, logbook = algorithms.eaSimple(pop, toolbox, cxpb=0.8, mutpb=0.2, ngen=100, stats=stats, halloffame=pareto, verbose=False)\n",
        "    return pop, logbook, pareto\n",
        "  main()\n",
        "  results_SLS[i,0] = int(Temperature[i])\n",
        "  minimum_error = min(vector_MAPE3)\n",
        "  min_position = vector_MAPE3.index(minimum_error)\n",
        "  results_SLS[i,1] = vector_alpha3[min_position]\n",
        "  results_SLS[i,2] = vector_beta3[min_position]\n",
        "  results_SLS[i,3] = vector_gamma3[min_position]\n",
        "  results_SLS[i,4] = vector_delta3[min_position]\n",
        "print(results_SLS)"
      ]
    },
    {
      "cell_type": "code",
      "execution_count": null,
      "metadata": {
        "colab": {
          "base_uri": "https://localhost:8080/"
        },
        "id": "bo3r_0bhfuSx",
        "outputId": "e473023c-6480-48ba-ac81-1be8afddf491"
      },
      "outputs": [
        {
          "output_type": "stream",
          "name": "stdout",
          "text": [
            "[[ 5.       5.59213  0.21393  0.14665  3.21267]\n",
            " [10.       5.98079  2.85958  0.66022  4.11181]\n",
            " [20.       5.45925  4.6775   2.30942  3.94197]]\n"
          ]
        }
      ],
      "source": [
        "# UNIAXIAL_MODEL\n",
        "def funcion_objetivo(individual):\n",
        "  MAPE4, MSLE4 = 0, 0\n",
        "  alpha4, beta4, gamma4, delta4 = individual[0], individual[1], individual[2], individual[3]\n",
        "  for j in range(0, n_y):\n",
        "    fr = Frecuenzy[j]\n",
        "    if alpha4<-11 or alpha4>11 or alpha4==0:\n",
        "      return penalize, penalize\n",
        "    if beta4<-11 or beta4>11 or beta4==0:\n",
        "      return penalize, penalize\n",
        "    if gamma4<-11 or gamma4>11 or gamma4==0:\n",
        "      return penalize, penalize\n",
        "    if delta4<-11 or delta4>11 or delta4==0:\n",
        "      return penalize, penalize\n",
        "    right4 = delta4 + ((alpha4-delta4)/(1+pow(math.e, beta4-gamma4*math.log10(fr))))\n",
        "    if right4>=2 and right4<=5:\n",
        "      ED4 = 10**right4\n",
        "      MAPE4 = MAPE4 + abs((lab_results[Temp][j]-ED4)/lab_results[Temp][j])\n",
        "      MSLE4 = MSLE4 + pow(np.log(1+lab_results[Temp][j])-np.log(1+ED4), 2)\n",
        "    else:        \n",
        "      return penalize, penalize\n",
        "  MAPE4, MSLE4 = MAPE4/n_y, MSLE4/n_y\n",
        "  if MAPE4>=0.05 or MSLE4>=0.003:\n",
        "    return penalize, penalize\n",
        "  else:\n",
        "    vector_alpha4.append(round(alpha4, 5))\n",
        "    vector_beta4.append(round(beta4, 5))\n",
        "    vector_gamma4.append(round(gamma4, 5))\n",
        "    vector_delta4.append(round(delta4, 5))\n",
        "    vector_MAPE4.append(round(MAPE4, 5))\n",
        "    vector_MSLE4.append(round(MSLE4, 5))\n",
        "    return MAPE4, MSLE4\n",
        "creator.create(\"FitnessMin\", base.Fitness, weights=(-1.0, -1.0))\n",
        "creator.create(\"Individual\", list, fitness=creator.FitnessMin)\n",
        "toolbox = base.Toolbox()\n",
        "toolbox.register(\"attr_alpha4\", random.uniform, 3.5, 5)\n",
        "toolbox.register(\"attr_beta4\", random.uniform, -2.5, 2)\n",
        "toolbox.register(\"attr_gamma4\", random.uniform, -1.5, 0)\n",
        "toolbox.register(\"attr_delta4\", random.uniform, 2, 4)\n",
        "toolbox.register(\"individual\", tools.initCycle, creator.Individual, (toolbox.attr_alpha4, toolbox.attr_beta4, toolbox.attr_gamma4, toolbox.attr_delta4), n=1)\n",
        "toolbox.register(\"population\", tools.initRepeat, list, toolbox.individual, 1600)\n",
        "toolbox.register(\"mate\", tools.cxOnePoint)\n",
        "toolbox.register(\"mutate\", tools.mutGaussian, mu=0.5, sigma=0.25, indpb=0.2)\n",
        "toolbox.register(\"select\", tools.selTournament, tournsize=2)\n",
        "toolbox.register(\"evaluate\", funcion_objetivo)\n",
        "results_UNIAXIAL = np.zeros((n_x-1, 5))\n",
        "for i in range(0, n_x-1):\n",
        "  vector_alpha4, vector_beta4, vector_gamma4, vector_delta4, vector_MAPE4, vector_MSLE4 = [], [], [], [], [], []\n",
        "  Temp = i\n",
        "  def main():\n",
        "    pop = toolbox.population()\n",
        "    stats = tools.Statistics(lambda ind: ind.fitness.values)\n",
        "    stats.register(\"avg\", np.mean)\n",
        "    stats.register(\"std\", np.std)\n",
        "    stats.register(\"min\", np.min)\n",
        "    stats.register(\"max\", np.max)\n",
        "    logbook = tools.Logbook()  \n",
        "    pareto = tools.ParetoFront() \n",
        "    pop, logbook = algorithms.eaSimple(pop, toolbox, cxpb=0.8, mutpb=0.2, ngen=100, stats=stats, halloffame=pareto, verbose=False)\n",
        "    return pop, logbook, pareto\n",
        "  main()\n",
        "  results_UNIAXIAL[i,0] = int(Temperature[i])\n",
        "  minimum_error = min(vector_MAPE4)\n",
        "  min_position = vector_MAPE4.index(minimum_error)\n",
        "  results_UNIAXIAL[i,1] = vector_alpha4[min_position]\n",
        "  results_UNIAXIAL[i,2] = vector_beta4[min_position]\n",
        "  results_UNIAXIAL[i,3] = vector_gamma4[min_position]\n",
        "  results_UNIAXIAL[i,4] = vector_delta4[min_position]\n",
        "print(results_UNIAXIAL)"
      ]
    },
    {
      "cell_type": "code",
      "execution_count": null,
      "metadata": {
        "id": "29rzoOVIvKEu"
      },
      "outputs": [],
      "source": [
        "frec = [1E-10, 2E-10, 3E-10, 4E-10, 5E-10, 6E-10, 7E-10, 8E-10, 9E-10, 1E-09, 2E-09, 3E-09, 4E-09, 5E-09, 6E-09, 7E-09, 8E-09, 9E-09, 1E-08, 2E-08, 3E-08, 4E-08, 5E-08, 6E-08, 7E-08, 8E-08, 9E-08, 1E-07, 2E-07, 3E-07, 4E-07, 5E-07, 6E-07, 7E-07, 8E-07, 9E-07, 1E-06, 2E-06, 3E-06, 4E-06, 5E-06, 6E-06, 7E-06, 8E-06, 9E-06, 1E-05, 2E-05, 3E-05, 4E-05, 5E-05, 6E-05, 7E-05, 8E-05, 9E-05, 1E-04, 2E-04, 3E-04, 4E-04, 5E-04, 6E-04, 7E-04, 8E-04, 9E-04, 1E-03, 2E-03, 3E-03, 4E-03, 5E-03, 6E-03, 7E-03, 8E-03, 9E-03, 1E-02, 2E-02, 3E-02, 4E-02, 5E-02, 6E-02, 7E-02, 8E-02, 9E-02, 1E-01, 2E-01, 3E-01, 4E-01, 5E-01, 6E-01, 7E-01, 8E-01, 9E-01, 1E+00, 2E+00, 3E+00, 4E+00, 5E+00, 6E+00, 7E+00, 8E+00, 9E+00, 1E+01, 2E+01, 3E+01, 4E+01, 5E+01, 6E+01, 7E+01, 8E+01, 9E+01, 1E+02, 2E+02, 3E+02, 4E+02, 5E+02, 6E+02, 7E+02, 8E+02, 9E+02, 1E+03, 2E+03, 3E+03, 4E+03, 5E+03, 6E+03, 7E+03, 8E+03, 9E+03, 1E+04, 2E+04, 3E+04, 4E+04, 5E+04, 6E+04, 7E+04, 8E+04, 9E+04, 1E+05, 2E+05, 3E+05, 4E+05, 5E+05, 6E+05, 7E+05, 8E+05, 9E+05, 1E+06, 2E+06, 3E+06, 4E+06, 5E+06, 6E+06, 7E+06, 8E+06, 9E+06, 1E+07, 2E+07, 3E+07, 4E+07, 5E+07, 6E+07, 7E+07, 8E+07, 9E+07, 1E+08, 2E+08, 3E+08, 4E+08, 5E+08, 6E+08, 7E+08, 8E+08, 9E+08, 1E+09, 2E+09, 3E+09, 4E+09, 5E+09, 6E+09, 7E+09, 8E+09, 9E+09, 1E+10, 2E+10, 3E+10, 4E+10, 5E+10, 6E+10, 7E+10, 8E+10, 9E+10]\n",
        "rows_number = len(frec)*(n_x-1)\n",
        "Training_Matrix = np.zeros((rows_number, 3))\n",
        "counter = 0\n",
        "for T in range(0, n_x-1):\n",
        "  alpha1, beta1, gamma1, delta1 = results_CANONICAL[T][1], results_CANONICAL[T][2], results_CANONICAL[T][3], results_CANONICAL[T][4]\n",
        "  alpha2, beta2, gamma2, delta2 = results_UCR[T][1], results_UCR[T][2], results_UCR[T][3], results_UCR[T][4]\n",
        "  alpha3, beta3, gamma3, delta3 = results_SLS[T][1], results_SLS[T][2], results_SLS[T][3], results_SLS[T][4]\n",
        "  alpha4, beta4, gamma4, delta4 = results_UNIAXIAL[T][1], results_UNIAXIAL[T][2], results_UNIAXIAL[T][3], results_UNIAXIAL[T][4]\n",
        "  Temp = Temperature[T]\n",
        "  for k in range (0, len(frec)):\n",
        "    fr = frec[k] \n",
        "    right1 = (alpha1+delta1)/(1+pow(math.e, beta1+gamma1*math.log10(fr)))\n",
        "    ED1 = 10**right1\n",
        "    right2 = delta2 + ((alpha2-delta2)/(1+pow(math.e, beta2+gamma2*math.log10(fr))))\n",
        "    ED2 = 10**right2\n",
        "    right3 = delta3 + (alpha3/(1+pow(math.e, beta3-gamma3*math.log10(fr))))\n",
        "    ED3 = 10**right3\n",
        "    right4 = delta4 + ((alpha4-delta4)/(1+pow(math.e, beta4-gamma4*math.log10(fr))))\n",
        "    ED4 = 10**right4\n",
        "    ED_average = (ED1+ED2+ED3+ED4)/4\n",
        "    ED_average = ED_average/1000 #variable_transformation\n",
        "    Training_Matrix[counter,0] = Temp\n",
        "    Training_Matrix[counter,1] = fr\n",
        "    Training_Matrix[counter,2] = ED_average\n",
        "    counter = counter + 1\n",
        "np.take(Training_Matrix,np.random.permutation(Training_Matrix.shape[0]),axis=0,out=Training_Matrix)\n",
        "input_data = Training_Matrix[:,0:2]\n",
        "output_data = Training_Matrix[: ,2:3]"
      ]
    },
    {
      "cell_type": "code",
      "execution_count": null,
      "metadata": {
        "colab": {
          "base_uri": "https://localhost:8080/"
        },
        "id": "jcpAE10CG_SE",
        "outputId": "e9c6d8b8-4b94-4905-d84a-c6c227e18de4"
      },
      "outputs": [
        {
          "output_type": "stream",
          "name": "stdout",
          "text": [
            "Model: \"sequential_44\"\n",
            "_________________________________________________________________\n",
            " Layer (type)                Output Shape              Param #   \n",
            "=================================================================\n",
            " dense_174 (Dense)           (None, 30)                90        \n",
            "                                                                 \n",
            " dense_175 (Dense)           (None, 20)                620       \n",
            "                                                                 \n",
            " dense_176 (Dense)           (None, 10)                210       \n",
            "                                                                 \n",
            " dense_177 (Dense)           (None, 1)                 11        \n",
            "                                                                 \n",
            "=================================================================\n",
            "Total params: 931\n",
            "Trainable params: 931\n",
            "Non-trainable params: 0\n",
            "_________________________________________________________________\n"
          ]
        }
      ],
      "source": [
        "def build_model():\n",
        "  model = keras.Sequential([\n",
        "    layers.Dense(30, activation=\"relu\", input_shape=[2]),\n",
        "    layers.Dense(20),\n",
        "    layers.Dense(10),\n",
        "    layers.Dense(1)])\n",
        "  optimizer = tf.keras.optimizers.Adamax(learning_rate=0.001, beta_1=0.9, epsilon=1e-06, name=\"Adamax\")\n",
        "  model.compile(loss=\"mse\", optimizer=optimizer)\n",
        "  return model\n",
        "model = build_model()\n",
        "history = model.fit(input_data, output_data, validation_split=0.2, epochs=1500, verbose=0)\n",
        "model.summary()"
      ]
    },
    {
      "cell_type": "code",
      "execution_count": null,
      "metadata": {
        "colab": {
          "base_uri": "https://localhost:8080/",
          "height": 517
        },
        "id": "FtY0G5Ce6cXV",
        "outputId": "bdb11934-c277-4467-b3cf-633865277a0e"
      },
      "outputs": [
        {
          "output_type": "stream",
          "name": "stderr",
          "text": [
            "<ipython-input-346-7079e5aa68da>:2: UserWarning: color is redundantly defined by the 'color' keyword argument and the fmt string \"r--\" (-> color='r'). The keyword argument will take precedence.\n",
            "  plt.plot(history.history[\"val_loss\"], \"r--\", color=\"b\", linewidth=2)\n"
          ]
        },
        {
          "output_type": "execute_result",
          "data": {
            "text/plain": [
              "<matplotlib.legend.Legend at 0x7f6adc9b6d90>"
            ]
          },
          "metadata": {},
          "execution_count": 346
        },
        {
          "output_type": "display_data",
          "data": {
            "text/plain": [
              "<Figure size 640x480 with 1 Axes>"
            ],
            "image/png": "[encoded data removed]"
          },
          "metadata": {}
        }
      ],
      "source": [
        "plt.plot(history.history[\"loss\"], color=\"r\", linewidth=3)\n",
        "plt.plot(history.history[\"val_loss\"], \"r--\", color=\"b\", linewidth=2)\n",
        "plt.xlabel(\"Epoch\")\n",
        "plt.ylabel(\"Loss (Mean absolute error)\")\n",
        "plt.legend([\"Training\", \"Testing\"], loc=\"upper right\")"
      ]
    },
    {
      "cell_type": "code",
      "execution_count": null,
      "metadata": {
        "colab": {
          "base_uri": "https://localhost:8080/"
        },
        "id": "bdwAOFR508rF",
        "outputId": "6c7464b8-085d-4827-b4d5-2f51dd6ce984"
      },
      "outputs": [
        {
          "output_type": "stream",
          "name": "stdout",
          "text": [
            "1/1 [==============================] - 0s 67ms/step\n",
            "The dynamic modulus at a temperature of 40°C and a frequency of 0.5Hz is 1410.0MPa\n",
            "1/1 [==============================] - 0s 69ms/step\n",
            "The dynamic modulus at a temperature of 40°C and a frequency of 1Hz is 1863.1MPa\n",
            "1/1 [==============================] - 0s 23ms/step\n",
            "The dynamic modulus at a temperature of 40°C and a frequency of 2Hz is 2786.7MPa\n",
            "1/1 [==============================] - 0s 22ms/step\n",
            "The dynamic modulus at a temperature of 40°C and a frequency of 4Hz is 4599.5MPa\n",
            "1/1 [==============================] - 0s 32ms/step\n",
            "The dynamic modulus at a temperature of 40°C and a frequency of 8Hz is 8196.3MPa\n"
          ]
        }
      ],
      "source": [
        "Fy = [0.5, 1, 2, 4, 8]\n",
        "for Y in Fy:\n",
        "  prediction = model.predict(np.array([[40, Y]]))\n",
        "  prediction = prediction[0]\n",
        "  prediction = prediction[0]\n",
        "  if prediction <= 0.00001:\n",
        "    print(\"The dynamic modulus at a temperature of 40°C and a frequency of \" + str(Y) + \"Hz is extremely close to zero\")\n",
        "  else:\n",
        "    prediction = round(prediction*1000, 1)\n",
        "    print(\"The dynamic modulus at a temperature of 40°C and a frequency of \" + str(Y) + \"Hz is \" + str(prediction) + \"MPa\")"
      ]
    }
  ],
  "metadata": {
    "accelerator": "TPU",
    "colab": {
      "provenance": []
    },
    "gpuClass": "standard",
    "kernelspec": {
      "display_name": "Python 3",
      "name": "python3"
    },
    "language_info": {
      "name": "python"
    }
  },
  "nbformat": 4,
  "nbformat_minor": 0
}